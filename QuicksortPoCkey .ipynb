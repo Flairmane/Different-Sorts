{
  "nbformat": 4,
  "nbformat_minor": 0,
  "metadata": {
    "colab": {
      "provenance": [],
      "include_colab_link": true
    },
    "kernelspec": {
      "name": "python3",
      "display_name": "Python 3"
    },
    "language_info": {
      "name": "python"
    }
  },
  "cells": [
    {
      "cell_type": "markdown",
      "metadata": {
        "id": "view-in-github",
        "colab_type": "text"
      },
      "source": [
        "<a href=\"https://colab.research.google.com/github/Flairmane/Different-Sorts/blob/main/QuicksortPoCkey%20.ipynb\" target=\"_parent\"><img src=\"https://colab.research.google.com/assets/colab-badge.svg\" alt=\"Open In Colab\"/></a>"
      ]
    },
    {
      "cell_type": "code",
      "execution_count": 7,
      "metadata": {
        "id": "t_LwP80OmwFK"
      },
      "outputs": [],
      "source": [
        "# Template for testing Quick-Sort on small lists, outputing each intermediate step"
      ]
    },
    {
      "cell_type": "code",
      "source": [
        "import random\n",
        "import time"
      ],
      "metadata": {
        "id": "LMcLd_etm-0Y"
      },
      "execution_count": 8,
      "outputs": []
    },
    {
      "cell_type": "code",
      "source": [
        "# Partition provided as a convenience\n",
        "\n",
        "def Partition(A,p,r):\n",
        "    x = A[r]\n",
        "    i = p - 1\n",
        "    for j in range(p,r):\n",
        "        if ( A[j] <= x ):\n",
        "            i = i + 1\n",
        "            #swap A[i] <--> A[j]\n",
        "            temp=A[i]\n",
        "            A[i]=A[j]\n",
        "            A[j]=temp\n",
        "    #swap A[i+1] <--> A[r]\n",
        "    temp=A[i+1]\n",
        "    A[i+1]=A[r]\n",
        "    A[r]=temp\n",
        "\n",
        "    return i + 1"
      ],
      "metadata": {
        "id": "TyWIYm1_nIYR"
      },
      "execution_count": 9,
      "outputs": []
    },
    {
      "cell_type": "code",
      "source": [
        "def Quicksort(A,p,r,print_flag):\n",
        "    if p < r:\n",
        "        q  = Partition(A , p , r)\n",
        "        if print_flag:\n",
        "            print(A)\n",
        "        Quicksort(A , p , q-1,print_flag)\n",
        "        Quicksort(A , q+1 , r,print_flag)"
      ],
      "metadata": {
        "id": "neX-YNcPnLpk"
      },
      "execution_count": 10,
      "outputs": []
    },
    {
      "cell_type": "code",
      "source": [
        "N=8\n",
        "A = list(range(N))\n",
        "\n",
        "random.shuffle(A)\n",
        "\n",
        "print(A)\n",
        "Quicksort(A,0,N-1,True)\n",
        "print(A)"
      ],
      "metadata": {
        "colab": {
          "base_uri": "https://localhost:8080/"
        },
        "id": "RVXFjLS0nCeo",
        "outputId": "bc8455cb-2f5e-4c55-b842-e5d901f21622"
      },
      "execution_count": 11,
      "outputs": [
        {
          "output_type": "stream",
          "name": "stdout",
          "text": [
            "[1, 3, 0, 7, 2, 5, 4, 6]\n",
            "[1, 3, 0, 2, 5, 4, 6, 7]\n",
            "[1, 3, 0, 2, 4, 5, 6, 7]\n",
            "[1, 0, 2, 3, 4, 5, 6, 7]\n",
            "[0, 1, 2, 3, 4, 5, 6, 7]\n",
            "[0, 1, 2, 3, 4, 5, 6, 7]\n"
          ]
        }
      ]
    },
    {
      "cell_type": "code",
      "source": [
        "N=100\n",
        "A = list()\n",
        "for i in range(N):\n",
        "  A.append(random.randint(0, 100))\n",
        "\n",
        "print(A)\n",
        "start_time = time.perf_counter()\n",
        "Quicksort(A,0,N-1,False)\n",
        "end_time = time.perf_counter()\n",
        "print(A)\n",
        "\n",
        "elapsed_time = end_time - start_time\n",
        "print(f\"Code execution took {elapsed_time:.6f} seconds.\")"
      ],
      "metadata": {
        "colab": {
          "base_uri": "https://localhost:8080/"
        },
        "id": "LlPXBsH7hUTn",
        "outputId": "1a27312b-9372-4a8d-ea8b-68614a908668"
      },
      "execution_count": 12,
      "outputs": [
        {
          "output_type": "stream",
          "name": "stdout",
          "text": [
            "[71, 80, 28, 44, 70, 69, 74, 55, 16, 7, 25, 78, 55, 39, 69, 47, 93, 47, 38, 31, 48, 88, 94, 57, 15, 44, 40, 56, 76, 35, 69, 98, 22, 23, 40, 24, 34, 11, 59, 31, 20, 74, 33, 56, 54, 63, 98, 6, 92, 64, 97, 55, 20, 46, 0, 21, 18, 86, 38, 33, 13, 74, 57, 82, 71, 52, 41, 20, 68, 79, 18, 3, 2, 79, 65, 31, 43, 92, 4, 71, 8, 32, 42, 78, 47, 27, 40, 14, 39, 99, 63, 33, 5, 52, 76, 28, 65, 13, 77, 15]\n",
            "[0, 2, 3, 4, 5, 6, 7, 8, 11, 13, 13, 14, 15, 15, 16, 18, 18, 20, 20, 20, 21, 22, 23, 24, 25, 27, 28, 28, 31, 31, 31, 32, 33, 33, 33, 34, 35, 38, 38, 39, 39, 40, 40, 40, 41, 42, 43, 44, 44, 46, 47, 47, 47, 48, 52, 52, 54, 55, 55, 55, 56, 56, 57, 57, 59, 63, 63, 64, 65, 65, 68, 69, 69, 69, 70, 71, 71, 71, 74, 74, 74, 76, 76, 77, 78, 78, 79, 79, 80, 82, 86, 88, 92, 92, 93, 94, 97, 98, 98, 99]\n",
            "Code execution took 0.000233 seconds.\n"
          ]
        }
      ]
    }
  ]
}