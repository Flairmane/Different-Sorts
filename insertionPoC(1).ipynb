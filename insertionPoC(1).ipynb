{
  "nbformat": 4,
  "nbformat_minor": 0,
  "metadata": {
    "colab": {
      "provenance": [],
      "include_colab_link": true
    },
    "kernelspec": {
      "name": "python3",
      "display_name": "Python 3"
    },
    "language_info": {
      "name": "python"
    }
  },
  "cells": [
    {
      "cell_type": "markdown",
      "metadata": {
        "id": "view-in-github",
        "colab_type": "text"
      },
      "source": [
        "<a href=\"https://colab.research.google.com/github/Flairmane/Different-Sorts/blob/main/insertionPoC(1).ipynb\" target=\"_parent\"><img src=\"https://colab.research.google.com/assets/colab-badge.svg\" alt=\"Open In Colab\"/></a>"
      ]
    },
    {
      "cell_type": "code",
      "execution_count": null,
      "metadata": {
        "id": "tZGwopH4Y7oL"
      },
      "outputs": [],
      "source": [
        "# Template for testing Insertion-Sort on small lists, outputing each intermediate step"
      ]
    },
    {
      "cell_type": "code",
      "source": [
        "import random\n",
        "#Import time to get the runtime\n",
        "import time"
      ],
      "metadata": {
        "id": "fSME9MywceAq"
      },
      "execution_count": null,
      "outputs": []
    },
    {
      "cell_type": "code",
      "source": [
        "def insertion(A,print_flag):\n",
        "\n",
        "# For your convenience, here is the psuedocode from the textbook for Insertion-Sort\n",
        "# You can adapt it for this problem, there aren't many changes required\n",
        "# Note that N is defined in a different execution group and doesn't need to be a parameter\n",
        "# Also, it is nice to have a boolean flag controlling whether the intermediate result is printed\n",
        "# The psuedocode is written to be \"in-place,\" so the input list changes\n",
        "\n",
        " for i in range(len(A)):\n",
        "    key = A[i]\n",
        " #insert A[i] into sorted seq A[1]..A[i-1]\n",
        "    j = i-1\n",
        "    while j>=0 and A[j]>key:\n",
        "       A[j+1] = A[j]\n",
        "       j = j-1\n",
        "    A[j+1] = key\n",
        "    if print_flag:\n",
        "      print(A)"
      ],
      "metadata": {
        "id": "TJZL4jFQZhAp"
      },
      "execution_count": null,
      "outputs": []
    },
    {
      "cell_type": "code",
      "source": [
        "#Base randomized list of set numbers, used to prove the base code is working\n",
        "N=8\n",
        "A = list(range(N))\n",
        "\n",
        "random.shuffle(A)\n",
        "\n",
        "print(A)\n",
        "insertion(A,True)\n",
        "print(A)"
      ],
      "metadata": {
        "colab": {
          "base_uri": "https://localhost:8080/"
        },
        "id": "f1GS3NjwZqmS",
        "outputId": "70e649cf-8c0c-42cf-fd5c-acfbddf43ed1"
      },
      "execution_count": null,
      "outputs": [
        {
          "output_type": "stream",
          "name": "stdout",
          "text": [
            "[2, 5, 1, 6, 3, 0, 7, 4]\n",
            "[2, 5, 1, 6, 3, 0, 7, 4]\n",
            "[2, 5, 1, 6, 3, 0, 7, 4]\n",
            "[1, 2, 5, 6, 3, 0, 7, 4]\n",
            "[1, 2, 5, 6, 3, 0, 7, 4]\n",
            "[1, 2, 3, 5, 6, 0, 7, 4]\n",
            "[0, 1, 2, 3, 5, 6, 7, 4]\n",
            "[0, 1, 2, 3, 5, 6, 7, 4]\n",
            "[0, 1, 2, 3, 4, 5, 6, 7]\n",
            "[0, 1, 2, 3, 4, 5, 6, 7]\n"
          ]
        }
      ]
    },
    {
      "cell_type": "code",
      "source": [
        "#Created fully randomized list of N length, tested with start and end times to give the total time\n",
        "N=100\n",
        "A = list()\n",
        "for x in range(N):\n",
        "  A.append(random.randint(0, 100))\n",
        "\n",
        "#Print before and after the sort has occured, gathering the start and end time of the sort function\n",
        "print(A)\n",
        "start_time = time.perf_counter()\n",
        "insertion(A,False)\n",
        "end_time = time.perf_counter()\n",
        "print(A)\n",
        "\n",
        "#Taking the recorded times to find the runtime of the function, printing the final result\n",
        "elapsed_time = end_time - start_time\n",
        "print(f\"Code execution took {elapsed_time:.6f} seconds.\")"
      ],
      "metadata": {
        "colab": {
          "base_uri": "https://localhost:8080/"
        },
        "id": "S2MkpRAim1_k",
        "outputId": "77ef57f1-da4a-4140-b88c-c02dcfbe6462"
      },
      "execution_count": null,
      "outputs": [
        {
          "output_type": "stream",
          "name": "stdout",
          "text": [
            "[74, 5, 76, 23, 95, 0, 2, 74, 39, 36, 68, 22, 66, 35, 52, 46, 36, 14, 45, 17, 31, 24, 54, 8, 9, 71, 47, 100, 54, 20, 75, 18, 68, 11, 29, 97, 45, 13, 29, 56, 10, 31, 53, 97, 69, 86, 100, 30, 25, 57, 33, 24, 50, 20, 38, 71, 83, 11, 80, 44, 42, 36, 16, 60, 30, 11, 67, 56, 18, 20, 7, 59, 77, 97, 73, 52, 95, 12, 51, 91, 1, 81, 77, 40, 38, 82, 21, 1, 46, 81, 56, 70, 21, 75, 34, 36, 49, 91, 14, 76]\n",
            "[0, 1, 1, 2, 5, 7, 8, 9, 10, 11, 11, 11, 12, 13, 14, 14, 16, 17, 18, 18, 20, 20, 20, 21, 21, 22, 23, 24, 24, 25, 29, 29, 30, 30, 31, 31, 33, 34, 35, 36, 36, 36, 36, 38, 38, 39, 40, 42, 44, 45, 45, 46, 46, 47, 49, 50, 51, 52, 52, 53, 54, 54, 56, 56, 56, 57, 59, 60, 66, 67, 68, 68, 69, 70, 71, 71, 73, 74, 74, 75, 75, 76, 76, 77, 77, 80, 81, 81, 82, 83, 86, 91, 91, 95, 95, 97, 97, 97, 100, 100]\n",
            "Code execution took 0.000225 seconds.\n"
          ]
        }
      ]
    }
  ]
}