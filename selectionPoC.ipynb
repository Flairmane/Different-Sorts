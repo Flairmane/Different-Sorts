{
  "nbformat": 4,
  "nbformat_minor": 0,
  "metadata": {
    "colab": {
      "provenance": [],
      "include_colab_link": true
    },
    "kernelspec": {
      "name": "python3",
      "display_name": "Python 3"
    },
    "language_info": {
      "name": "python"
    }
  },
  "cells": [
    {
      "cell_type": "markdown",
      "metadata": {
        "id": "view-in-github",
        "colab_type": "text"
      },
      "source": [
        "<a href=\"https://colab.research.google.com/github/Flairmane/Different-Sorts/blob/main/selectionPoC.ipynb\" target=\"_parent\"><img src=\"https://colab.research.google.com/assets/colab-badge.svg\" alt=\"Open In Colab\"/></a>"
      ]
    },
    {
      "cell_type": "code",
      "execution_count": 16,
      "metadata": {
        "id": "tZGwopH4Y7oL"
      },
      "outputs": [],
      "source": [
        "# Template for testing Selection Sort on small lists, outputing each intermediate step"
      ]
    },
    {
      "cell_type": "code",
      "source": [
        "import random\n",
        "import time"
      ],
      "metadata": {
        "id": "fSME9MywceAq"
      },
      "execution_count": 17,
      "outputs": []
    },
    {
      "cell_type": "code",
      "source": [
        "def selection(A,print_flag):\n",
        "\n",
        "\n",
        "# for your convenience, the psuedocode from class is provided, and note that you don't really need line 1, you can handle that in the outer for loop statement\n",
        "\n",
        "  for i in range(len(A)):\n",
        "    smallest = i\n",
        "    j = i+1\n",
        "    for j in range(len(A)):\n",
        "        if A[smallest] < A[j]:\n",
        "          smallest = j\n",
        "          A[i], A[smallest] = A[smallest], A[i]\n",
        "    if print_flag:\n",
        "      print(A)"
      ],
      "metadata": {
        "id": "TJZL4jFQZhAp"
      },
      "execution_count": 18,
      "outputs": []
    },
    {
      "cell_type": "code",
      "source": [
        "N=8\n",
        "A = list(range(N))\n",
        "\n",
        "print(A)\n",
        "selection(A,True)\n",
        "print(A)"
      ],
      "metadata": {
        "id": "f1GS3NjwZqmS",
        "colab": {
          "base_uri": "https://localhost:8080/"
        },
        "outputId": "f7c17edf-a1ef-4505-86bb-12e49a43f56b"
      },
      "execution_count": 19,
      "outputs": [
        {
          "output_type": "stream",
          "name": "stdout",
          "text": [
            "[0, 1, 2, 3, 4, 5, 6, 7]\n",
            "[7, 0, 1, 2, 3, 4, 5, 6]\n",
            "[0, 7, 1, 2, 3, 4, 5, 6]\n",
            "[0, 1, 7, 2, 3, 4, 5, 6]\n",
            "[0, 1, 2, 7, 3, 4, 5, 6]\n",
            "[0, 1, 2, 3, 7, 4, 5, 6]\n",
            "[0, 1, 2, 3, 4, 7, 5, 6]\n",
            "[0, 1, 2, 3, 4, 5, 7, 6]\n",
            "[0, 1, 2, 3, 4, 5, 6, 7]\n",
            "[0, 1, 2, 3, 4, 5, 6, 7]\n"
          ]
        }
      ]
    },
    {
      "cell_type": "code",
      "source": [
        "N=100\n",
        "A = list()\n",
        "for i in range(N):\n",
        "  A.append(random.randint(0, 100))\n",
        "\n",
        "print(A)\n",
        "start_time = time.perf_counter()\n",
        "selection(A,False)\n",
        "end_time = time.perf_counter()\n",
        "print(A)\n",
        "\n",
        "elapsed_time = end_time - start_time\n",
        "print(f\"Code execution took {elapsed_time:.6f} seconds.\")"
      ],
      "metadata": {
        "colab": {
          "base_uri": "https://localhost:8080/"
        },
        "id": "rEvS8Pc0jOXf",
        "outputId": "0123e07c-e80f-4414-8f2a-4e98aedb5fec"
      },
      "execution_count": 20,
      "outputs": [
        {
          "output_type": "stream",
          "name": "stdout",
          "text": [
            "[93, 95, 84, 9, 60, 85, 100, 20, 15, 47, 33, 35, 4, 82, 60, 51, 4, 0, 18, 74, 100, 62, 9, 42, 92, 88, 12, 75, 1, 15, 42, 11, 99, 26, 21, 48, 13, 10, 20, 75, 20, 26, 90, 17, 1, 93, 92, 73, 22, 5, 79, 80, 40, 93, 66, 21, 2, 34, 97, 16, 83, 28, 12, 97, 16, 74, 15, 38, 23, 35, 55, 95, 25, 1, 96, 5, 28, 56, 11, 67, 92, 89, 33, 1, 46, 48, 64, 10, 32, 17, 52, 95, 15, 97, 11, 33, 66, 54, 77, 6]\n",
            "[0, 1, 1, 1, 1, 2, 4, 4, 5, 5, 6, 9, 9, 10, 10, 11, 11, 11, 12, 12, 13, 15, 15, 15, 15, 16, 16, 17, 17, 18, 20, 20, 20, 21, 21, 22, 23, 25, 26, 26, 28, 28, 32, 33, 33, 33, 34, 35, 35, 38, 40, 42, 42, 46, 47, 48, 48, 51, 52, 54, 55, 56, 60, 60, 62, 64, 66, 66, 67, 73, 74, 74, 75, 75, 77, 79, 80, 82, 83, 84, 85, 88, 89, 90, 92, 92, 92, 93, 93, 93, 95, 95, 95, 96, 97, 97, 97, 99, 100, 100]\n",
            "Code execution took 0.000483 seconds.\n"
          ]
        }
      ]
    }
  ]
}