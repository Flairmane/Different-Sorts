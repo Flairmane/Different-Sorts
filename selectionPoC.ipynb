{
  "nbformat": 4,
  "nbformat_minor": 0,
  "metadata": {
    "colab": {
      "provenance": [],
      "include_colab_link": true
    },
    "kernelspec": {
      "name": "python3",
      "display_name": "Python 3"
    },
    "language_info": {
      "name": "python"
    }
  },
  "cells": [
    {
      "cell_type": "markdown",
      "metadata": {
        "id": "view-in-github",
        "colab_type": "text"
      },
      "source": [
        "<a href=\"https://colab.research.google.com/github/Flairmane/Different-Sorts/blob/main/selectionPoC.ipynb\" target=\"_parent\"><img src=\"https://colab.research.google.com/assets/colab-badge.svg\" alt=\"Open In Colab\"/></a>"
      ]
    },
    {
      "cell_type": "code",
      "execution_count": 55,
      "metadata": {
        "id": "tZGwopH4Y7oL"
      },
      "outputs": [],
      "source": [
        "# Template for testing Selection Sort on small lists, outputing each intermediate step"
      ]
    },
    {
      "cell_type": "code",
      "source": [
        "import random"
      ],
      "metadata": {
        "id": "fSME9MywceAq"
      },
      "execution_count": 56,
      "outputs": []
    },
    {
      "cell_type": "code",
      "source": [
        "def selection(A,print_flag):\n",
        "\n",
        "\n",
        "# for your convenience, the psuedocode from class is provided, and note that you don't really need line 1, you can handle that in the outer for loop statement\n",
        "\n",
        "  for i in range(len(A)):\n",
        "    smallest = i\n",
        "    j = i+1\n",
        "    for j in range(len(A)):\n",
        "        if A[smallest] < A[j]:\n",
        "          smallest = j\n",
        "          A[i], A[smallest] = A[smallest], A[i]\n",
        "    if print_flag:\n",
        "      print(A)"
      ],
      "metadata": {
        "id": "TJZL4jFQZhAp"
      },
      "execution_count": 57,
      "outputs": []
    },
    {
      "cell_type": "code",
      "source": [
        "N=8\n",
        "A = list(range(N))\n",
        "\n",
        "print(A)\n",
        "selection(A,True)\n",
        "print(A)"
      ],
      "metadata": {
        "id": "f1GS3NjwZqmS",
        "outputId": "17ba5483-ad53-4c00-c8e7-51ddd9e40d12",
        "colab": {
          "base_uri": "https://localhost:8080/"
        }
      },
      "execution_count": 58,
      "outputs": [
        {
          "output_type": "stream",
          "name": "stdout",
          "text": [
            "[0, 1, 2, 3, 4, 5, 6, 7]\n",
            "[7, 0, 1, 2, 3, 4, 5, 6]\n",
            "[0, 7, 1, 2, 3, 4, 5, 6]\n",
            "[0, 1, 7, 2, 3, 4, 5, 6]\n",
            "[0, 1, 2, 7, 3, 4, 5, 6]\n",
            "[0, 1, 2, 3, 7, 4, 5, 6]\n",
            "[0, 1, 2, 3, 4, 7, 5, 6]\n",
            "[0, 1, 2, 3, 4, 5, 7, 6]\n",
            "[0, 1, 2, 3, 4, 5, 6, 7]\n",
            "[0, 1, 2, 3, 4, 5, 6, 7]\n"
          ]
        }
      ]
    },
    {
      "cell_type": "code",
      "source": [
        "N=8\n",
        "A = list()\n",
        "for i in range(N):\n",
        "  A.append(random.randint(0, 100))\n",
        "\n",
        "print(A)\n",
        "selection(A,True)\n",
        "print(A)"
      ],
      "metadata": {
        "id": "rEvS8Pc0jOXf",
        "outputId": "35d575f8-79f9-4849-fa46-44f31e27c72b",
        "colab": {
          "base_uri": "https://localhost:8080/"
        }
      },
      "execution_count": 59,
      "outputs": [
        {
          "output_type": "stream",
          "name": "stdout",
          "text": [
            "[21, 65, 67, 15, 2, 51, 82, 11]\n",
            "[82, 21, 65, 15, 2, 51, 67, 11]\n",
            "[21, 82, 65, 15, 2, 51, 67, 11]\n",
            "[21, 65, 82, 15, 2, 51, 67, 11]\n",
            "[15, 21, 65, 82, 2, 51, 67, 11]\n",
            "[2, 15, 21, 65, 82, 51, 67, 11]\n",
            "[2, 15, 21, 51, 65, 82, 67, 11]\n",
            "[2, 15, 21, 51, 65, 67, 82, 11]\n",
            "[2, 11, 15, 21, 51, 65, 67, 82]\n",
            "[2, 11, 15, 21, 51, 65, 67, 82]\n"
          ]
        }
      ]
    }
  ]
}