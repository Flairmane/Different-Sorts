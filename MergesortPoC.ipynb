{
  "nbformat": 4,
  "nbformat_minor": 0,
  "metadata": {
    "colab": {
      "provenance": [],
      "include_colab_link": true
    },
    "kernelspec": {
      "name": "python3",
      "display_name": "Python 3"
    },
    "language_info": {
      "name": "python"
    }
  },
  "cells": [
    {
      "cell_type": "markdown",
      "metadata": {
        "id": "view-in-github",
        "colab_type": "text"
      },
      "source": [
        "<a href=\"https://colab.research.google.com/github/Flairmane/Different-Sorts/blob/main/MergesortPoC.ipynb\" target=\"_parent\"><img src=\"https://colab.research.google.com/assets/colab-badge.svg\" alt=\"Open In Colab\"/></a>"
      ]
    },
    {
      "cell_type": "code",
      "execution_count": null,
      "metadata": {
        "id": "t_LwP80OmwFK"
      },
      "outputs": [],
      "source": [
        "# Template for testing Insertion-Sort on small lists, outputing each intermediate step"
      ]
    },
    {
      "cell_type": "code",
      "source": [
        "import random\n",
        "#Import time to get the runtime\n",
        "import time"
      ],
      "metadata": {
        "id": "LMcLd_etm-0Y"
      },
      "execution_count": null,
      "outputs": []
    },
    {
      "cell_type": "code",
      "source": [
        "# Merge provided as a convenience\n",
        "\n",
        "def Merge(A,p,q,r):\n",
        "    nL = q-p+1\n",
        "    nR = r-q\n",
        "    Left = []\n",
        "    Right = []\n",
        "\n",
        "    for i in range(nL):\n",
        "        Left.append(A[p+i])\n",
        "    for j in range(nR):\n",
        "        Right.append(A[q+j+1])\n",
        "\n",
        "    i=0\n",
        "    j=0\n",
        "    k=p\n",
        "    while i<nL and j<nR:\n",
        "        if (Left[i]<=Right[j]):\n",
        "            A[k]=Left[i]\n",
        "            i+=1\n",
        "        else:\n",
        "            A[k]=Right[j]\n",
        "            j+=1\n",
        "        k+=1\n",
        "\n",
        "    while i< nL:\n",
        "        A[k]=Left[i]\n",
        "        i+=1\n",
        "        k+=1\n",
        "    while j< nR:\n",
        "        A[k]=Right[j]\n",
        "        j+=1\n",
        "        k+=1\n",
        "\n",
        "    return"
      ],
      "metadata": {
        "id": "TyWIYm1_nIYR"
      },
      "execution_count": null,
      "outputs": []
    },
    {
      "cell_type": "code",
      "source": [
        "def Mergesort(A,p,r,print_flag):\n",
        "    if p >= r:\n",
        "        return\n",
        "    q = (p+r)//2\n",
        "\n",
        "    # Modify the following three calls:\n",
        "    #Merge sorts modified to work correctly and act recursively before merging\n",
        "    Mergesort(A, p, q, print_flag)\n",
        "    Mergesort(A, q+1, r, print_flag)\n",
        "    Merge(A, p, q, r)\n",
        "\n",
        "    if print_flag:\n",
        "      print(A)\n",
        "    return"
      ],
      "metadata": {
        "id": "neX-YNcPnLpk"
      },
      "execution_count": null,
      "outputs": []
    },
    {
      "cell_type": "code",
      "source": [
        "#Base randomized list of set numbers, used to prove the base code is working\n",
        "N=8\n",
        "A = list(range(N))\n",
        "\n",
        "random.shuffle(A)\n",
        "\n",
        "print(A)\n",
        "Mergesort(A,0,N-1,True)\n",
        "print(A)"
      ],
      "metadata": {
        "colab": {
          "base_uri": "https://localhost:8080/"
        },
        "id": "RVXFjLS0nCeo",
        "outputId": "33edf12e-d8ab-41ff-ff74-323b36afb537"
      },
      "execution_count": null,
      "outputs": [
        {
          "output_type": "stream",
          "name": "stdout",
          "text": [
            "[2, 4, 0, 7, 6, 3, 5, 1]\n",
            "[2, 4, 0, 7, 6, 3, 5, 1]\n",
            "[2, 4, 0, 7, 6, 3, 5, 1]\n",
            "[0, 2, 4, 7, 6, 3, 5, 1]\n",
            "[0, 2, 4, 7, 3, 6, 5, 1]\n",
            "[0, 2, 4, 7, 3, 6, 1, 5]\n",
            "[0, 2, 4, 7, 1, 3, 5, 6]\n",
            "[0, 1, 2, 3, 4, 5, 6, 7]\n",
            "[0, 1, 2, 3, 4, 5, 6, 7]\n"
          ]
        }
      ]
    },
    {
      "cell_type": "code",
      "source": [
        "#Created fully randomized list of N length, tested with start and end times to give the total time\n",
        "N=100\n",
        "A = list()\n",
        "for i in range(N):\n",
        "  A.append(random.randint(0, 100))\n",
        "\n",
        "#Print before and after the sort has occured, gathering the start and end time of the sort function\n",
        "print(A)\n",
        "start_time = time.perf_counter()\n",
        "Mergesort(A,0,N-1,False)\n",
        "end_time = time.perf_counter()\n",
        "print(A)\n",
        "\n",
        "#Taking the recorded times to find the runtime of the function, printing the final result\n",
        "elapsed_time = end_time - start_time\n",
        "print(f\"Code execution took {elapsed_time:.6f} seconds.\")"
      ],
      "metadata": {
        "id": "57cl8f1-gMSC",
        "outputId": "88a165a3-11c1-40d8-dc2e-e5e88bc1ac7f",
        "colab": {
          "base_uri": "https://localhost:8080/"
        }
      },
      "execution_count": null,
      "outputs": [
        {
          "output_type": "stream",
          "name": "stdout",
          "text": [
            "[81, 1, 76, 99, 80, 68, 83, 37, 57, 54, 1, 27, 28, 85, 79, 56, 69, 34, 42, 3, 76, 19, 33, 8, 73, 20, 75, 82, 97, 6, 91, 31, 11, 71, 42, 94, 94, 55, 18, 56, 84, 61, 93, 81, 61, 26, 33, 10, 34, 37, 41, 23, 89, 25, 31, 69, 71, 10, 41, 96, 41, 79, 100, 83, 80, 42, 52, 91, 55, 62, 82, 100, 82, 60, 88, 3, 87, 15, 46, 78, 32, 81, 79, 16, 80, 63, 65, 33, 92, 33, 78, 41, 55, 64, 14, 19, 18, 82, 92, 21]\n",
            "[1, 1, 3, 3, 6, 8, 10, 10, 11, 14, 15, 16, 18, 18, 19, 19, 20, 21, 23, 25, 26, 27, 28, 31, 31, 32, 33, 33, 33, 33, 34, 34, 37, 37, 41, 41, 41, 41, 42, 42, 42, 46, 52, 54, 55, 55, 55, 56, 56, 57, 60, 61, 61, 62, 63, 64, 65, 68, 69, 69, 71, 71, 73, 75, 76, 76, 78, 78, 79, 79, 79, 80, 80, 80, 81, 81, 81, 82, 82, 82, 82, 83, 83, 84, 85, 87, 88, 89, 91, 91, 92, 92, 93, 94, 94, 96, 97, 99, 100, 100]\n",
            "Code execution took 0.000238 seconds.\n"
          ]
        }
      ]
    }
  ]
}