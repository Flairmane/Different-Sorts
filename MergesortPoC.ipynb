{
  "nbformat": 4,
  "nbformat_minor": 0,
  "metadata": {
    "colab": {
      "provenance": [],
      "include_colab_link": true
    },
    "kernelspec": {
      "name": "python3",
      "display_name": "Python 3"
    },
    "language_info": {
      "name": "python"
    }
  },
  "cells": [
    {
      "cell_type": "markdown",
      "metadata": {
        "id": "view-in-github",
        "colab_type": "text"
      },
      "source": [
        "<a href=\"https://colab.research.google.com/github/Flairmane/Quick-Sort/blob/main/MergesortPoC.ipynb\" target=\"_parent\"><img src=\"https://colab.research.google.com/assets/colab-badge.svg\" alt=\"Open In Colab\"/></a>"
      ]
    },
    {
      "cell_type": "code",
      "execution_count": 12,
      "metadata": {
        "id": "t_LwP80OmwFK"
      },
      "outputs": [],
      "source": [
        "# Template for testing Insertion-Sort on small lists, outputing each intermediate step"
      ]
    },
    {
      "cell_type": "code",
      "source": [
        "import random"
      ],
      "metadata": {
        "id": "LMcLd_etm-0Y"
      },
      "execution_count": 13,
      "outputs": []
    },
    {
      "cell_type": "code",
      "source": [
        "# Merge provided as a convenience\n",
        "\n",
        "def Merge(A,p,q,r):\n",
        "    nL = q-p+1\n",
        "    nR = r-q\n",
        "    Left = []\n",
        "    Right = []\n",
        "\n",
        "    for i in range(nL):\n",
        "        Left.append(A[p+i])\n",
        "    for j in range(nR):\n",
        "        Right.append(A[q+j+1])\n",
        "\n",
        "    i=0\n",
        "    j=0\n",
        "    k=p\n",
        "    while i<nL and j<nR:\n",
        "        if (Left[i]<=Right[j]):\n",
        "            A[k]=Left[i]\n",
        "            i+=1\n",
        "        else:\n",
        "            A[k]=Right[j]\n",
        "            j+=1\n",
        "        k+=1\n",
        "\n",
        "    while i< nL:\n",
        "        A[k]=Left[i]\n",
        "        i+=1\n",
        "        k+=1\n",
        "    while j< nR:\n",
        "        A[k]=Right[j]\n",
        "        j+=1\n",
        "        k+=1\n",
        "\n",
        "    return"
      ],
      "metadata": {
        "id": "TyWIYm1_nIYR"
      },
      "execution_count": 14,
      "outputs": []
    },
    {
      "cell_type": "code",
      "source": [
        "def Mergesort(A,p,r,print_flag):\n",
        "    if p >= r:\n",
        "        return\n",
        "    q = (p+r)//2\n",
        "\n",
        "    # Modify the following three calls:\n",
        "    Mergesort(A, p, q-1)\n",
        "    Mergesort(A, q+1, r)\n",
        "    Merge(A, q, p, r)\n",
        "\n",
        "    if print_flag:\n",
        "      print(A)\n",
        "    return"
      ],
      "metadata": {
        "id": "neX-YNcPnLpk"
      },
      "execution_count": 15,
      "outputs": []
    },
    {
      "cell_type": "code",
      "source": [
        "N=8\n",
        "A = list(range(N))\n",
        "\n",
        "random.shuffle(A)\n",
        "\n",
        "print(A)\n",
        "Mergesort(A,0,N-1,True)\n",
        "print(A)"
      ],
      "metadata": {
        "colab": {
          "base_uri": "https://localhost:8080/",
          "height": 338
        },
        "id": "RVXFjLS0nCeo",
        "outputId": "53d50b8e-0e27-4fde-d03a-9aaf3c7e8fbb"
      },
      "execution_count": 16,
      "outputs": [
        {
          "output_type": "stream",
          "name": "stdout",
          "text": [
            "[4, 3, 1, 7, 5, 6, 2, 0]\n"
          ]
        },
        {
          "output_type": "error",
          "ename": "TypeError",
          "evalue": "Mergesort() missing 1 required positional argument: 'print_flag'",
          "traceback": [
            "\u001b[0;31m---------------------------------------------------------------------------\u001b[0m",
            "\u001b[0;31mTypeError\u001b[0m                                 Traceback (most recent call last)",
            "\u001b[0;32m/tmp/ipython-input-3963259723.py\u001b[0m in \u001b[0;36m<cell line: 0>\u001b[0;34m()\u001b[0m\n\u001b[1;32m      5\u001b[0m \u001b[0;34m\u001b[0m\u001b[0m\n\u001b[1;32m      6\u001b[0m \u001b[0mprint\u001b[0m\u001b[0;34m(\u001b[0m\u001b[0mA\u001b[0m\u001b[0;34m)\u001b[0m\u001b[0;34m\u001b[0m\u001b[0;34m\u001b[0m\u001b[0m\n\u001b[0;32m----> 7\u001b[0;31m \u001b[0mMergesort\u001b[0m\u001b[0;34m(\u001b[0m\u001b[0mA\u001b[0m\u001b[0;34m,\u001b[0m\u001b[0;36m0\u001b[0m\u001b[0;34m,\u001b[0m\u001b[0mN\u001b[0m\u001b[0;34m-\u001b[0m\u001b[0;36m1\u001b[0m\u001b[0;34m,\u001b[0m\u001b[0;32mTrue\u001b[0m\u001b[0;34m)\u001b[0m\u001b[0;34m\u001b[0m\u001b[0;34m\u001b[0m\u001b[0m\n\u001b[0m\u001b[1;32m      8\u001b[0m \u001b[0mprint\u001b[0m\u001b[0;34m(\u001b[0m\u001b[0mA\u001b[0m\u001b[0;34m)\u001b[0m\u001b[0;34m\u001b[0m\u001b[0;34m\u001b[0m\u001b[0m\n",
            "\u001b[0;32m/tmp/ipython-input-2211811525.py\u001b[0m in \u001b[0;36mMergesort\u001b[0;34m(A, p, r, print_flag)\u001b[0m\n\u001b[1;32m      5\u001b[0m \u001b[0;34m\u001b[0m\u001b[0m\n\u001b[1;32m      6\u001b[0m     \u001b[0;31m# Modify the following three calls:\u001b[0m\u001b[0;34m\u001b[0m\u001b[0;34m\u001b[0m\u001b[0m\n\u001b[0;32m----> 7\u001b[0;31m     \u001b[0mMergesort\u001b[0m\u001b[0;34m(\u001b[0m\u001b[0mA\u001b[0m\u001b[0;34m,\u001b[0m \u001b[0mp\u001b[0m\u001b[0;34m,\u001b[0m \u001b[0mq\u001b[0m\u001b[0;34m-\u001b[0m\u001b[0;36m1\u001b[0m\u001b[0;34m)\u001b[0m\u001b[0;34m\u001b[0m\u001b[0;34m\u001b[0m\u001b[0m\n\u001b[0m\u001b[1;32m      8\u001b[0m     \u001b[0mMergesort\u001b[0m\u001b[0;34m(\u001b[0m\u001b[0mA\u001b[0m\u001b[0;34m,\u001b[0m \u001b[0mq\u001b[0m\u001b[0;34m+\u001b[0m\u001b[0;36m1\u001b[0m\u001b[0;34m,\u001b[0m \u001b[0mr\u001b[0m\u001b[0;34m)\u001b[0m\u001b[0;34m\u001b[0m\u001b[0;34m\u001b[0m\u001b[0m\n\u001b[1;32m      9\u001b[0m     \u001b[0mMerge\u001b[0m\u001b[0;34m(\u001b[0m\u001b[0mA\u001b[0m\u001b[0;34m,\u001b[0m \u001b[0mq\u001b[0m\u001b[0;34m,\u001b[0m \u001b[0mp\u001b[0m\u001b[0;34m,\u001b[0m \u001b[0mr\u001b[0m\u001b[0;34m)\u001b[0m\u001b[0;34m\u001b[0m\u001b[0;34m\u001b[0m\u001b[0m\n",
            "\u001b[0;31mTypeError\u001b[0m: Mergesort() missing 1 required positional argument: 'print_flag'"
          ]
        }
      ]
    }
  ]
}