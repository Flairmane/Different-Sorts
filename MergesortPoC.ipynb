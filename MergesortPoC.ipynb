{
  "nbformat": 4,
  "nbformat_minor": 0,
  "metadata": {
    "colab": {
      "provenance": [],
      "include_colab_link": true
    },
    "kernelspec": {
      "name": "python3",
      "display_name": "Python 3"
    },
    "language_info": {
      "name": "python"
    }
  },
  "cells": [
    {
      "cell_type": "markdown",
      "metadata": {
        "id": "view-in-github",
        "colab_type": "text"
      },
      "source": [
        "<a href=\"https://colab.research.google.com/github/Flairmane/Different-Sorts/blob/main/MergesortPoC.ipynb\" target=\"_parent\"><img src=\"https://colab.research.google.com/assets/colab-badge.svg\" alt=\"Open In Colab\"/></a>"
      ]
    },
    {
      "cell_type": "code",
      "execution_count": 45,
      "metadata": {
        "id": "t_LwP80OmwFK"
      },
      "outputs": [],
      "source": [
        "# Template for testing Insertion-Sort on small lists, outputing each intermediate step"
      ]
    },
    {
      "cell_type": "code",
      "source": [
        "import random"
      ],
      "metadata": {
        "id": "LMcLd_etm-0Y"
      },
      "execution_count": 46,
      "outputs": []
    },
    {
      "cell_type": "code",
      "source": [
        "# Merge provided as a convenience\n",
        "\n",
        "def Merge(A,p,q,r):\n",
        "    nL = q-p+1\n",
        "    nR = r-q\n",
        "    Left = []\n",
        "    Right = []\n",
        "\n",
        "    for i in range(nL):\n",
        "        Left.append(A[p+i])\n",
        "    for j in range(nR):\n",
        "        Right.append(A[q+j+1])\n",
        "\n",
        "    i=0\n",
        "    j=0\n",
        "    k=p\n",
        "    while i<nL and j<nR:\n",
        "        if (Left[i]<=Right[j]):\n",
        "            A[k]=Left[i]\n",
        "            i+=1\n",
        "        else:\n",
        "            A[k]=Right[j]\n",
        "            j+=1\n",
        "        k+=1\n",
        "\n",
        "    while i< nL:\n",
        "        A[k]=Left[i]\n",
        "        i+=1\n",
        "        k+=1\n",
        "    while j< nR:\n",
        "        A[k]=Right[j]\n",
        "        j+=1\n",
        "        k+=1\n",
        "\n",
        "    return"
      ],
      "metadata": {
        "id": "TyWIYm1_nIYR"
      },
      "execution_count": 47,
      "outputs": []
    },
    {
      "cell_type": "code",
      "source": [
        "def Mergesort(A,p,r,print_flag):\n",
        "    if p >= r:\n",
        "        return\n",
        "    q = (p+r)//2\n",
        "\n",
        "    # Modify the following three calls:\n",
        "    Mergesort(A, p, q, True)\n",
        "    Mergesort(A, q+1, r, True)\n",
        "    Merge(A, p, q, r)\n",
        "\n",
        "    if print_flag:\n",
        "      print(A)\n",
        "    return"
      ],
      "metadata": {
        "id": "neX-YNcPnLpk"
      },
      "execution_count": 48,
      "outputs": []
    },
    {
      "cell_type": "code",
      "source": [
        "N=8\n",
        "A = list(range(N))\n",
        "\n",
        "random.shuffle(A)\n",
        "\n",
        "print(A)\n",
        "Mergesort(A,0,N-1,True)\n",
        "print(A)"
      ],
      "metadata": {
        "colab": {
          "base_uri": "https://localhost:8080/"
        },
        "id": "RVXFjLS0nCeo",
        "outputId": "ce314b77-d4da-4c15-d7a4-6a43a73d54c3"
      },
      "execution_count": 49,
      "outputs": [
        {
          "output_type": "stream",
          "name": "stdout",
          "text": [
            "[0, 6, 7, 5, 4, 3, 2, 1]\n",
            "[0, 6, 7, 5, 4, 3, 2, 1]\n",
            "[0, 6, 5, 7, 4, 3, 2, 1]\n",
            "[0, 5, 6, 7, 4, 3, 2, 1]\n",
            "[0, 5, 6, 7, 3, 4, 2, 1]\n",
            "[0, 5, 6, 7, 3, 4, 1, 2]\n",
            "[0, 5, 6, 7, 1, 2, 3, 4]\n",
            "[0, 1, 2, 3, 4, 5, 6, 7]\n",
            "[0, 1, 2, 3, 4, 5, 6, 7]\n"
          ]
        }
      ]
    },
    {
      "cell_type": "code",
      "source": [
        "N=8\n",
        "A = list()\n",
        "for i in range(N):\n",
        "  A.append(random.randint(0, 100))\n",
        "\n",
        "print(A)\n",
        "Mergesort(A,0,N-1,True)\n",
        "print(A)"
      ],
      "metadata": {
        "id": "57cl8f1-gMSC",
        "outputId": "a431e3e0-b99c-410e-d456-7a7625edf7ac",
        "colab": {
          "base_uri": "https://localhost:8080/"
        }
      },
      "execution_count": 50,
      "outputs": [
        {
          "output_type": "stream",
          "name": "stdout",
          "text": [
            "[75, 39, 50, 33, 17, 41, 65, 2]\n",
            "[39, 75, 50, 33, 17, 41, 65, 2]\n",
            "[39, 75, 33, 50, 17, 41, 65, 2]\n",
            "[33, 39, 50, 75, 17, 41, 65, 2]\n",
            "[33, 39, 50, 75, 17, 41, 65, 2]\n",
            "[33, 39, 50, 75, 17, 41, 2, 65]\n",
            "[33, 39, 50, 75, 2, 17, 41, 65]\n",
            "[2, 17, 33, 39, 41, 50, 65, 75]\n",
            "[2, 17, 33, 39, 41, 50, 65, 75]\n"
          ]
        }
      ]
    }
  ]
}